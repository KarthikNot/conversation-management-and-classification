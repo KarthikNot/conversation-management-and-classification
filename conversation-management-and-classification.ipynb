{
 "cells": [
  {
   "cell_type": "code",
   "execution_count": 7,
   "id": "9eb9f38b",
   "metadata": {},
   "outputs": [
    {
     "data": {
      "text/plain": [
       "True"
      ]
     },
     "execution_count": 7,
     "metadata": {},
     "output_type": "execute_result"
    }
   ],
   "source": [
    "import os, openai\n",
    "from dotenv import load_dotenv\n",
    "load_dotenv()"
   ]
  },
  {
   "cell_type": "code",
   "execution_count": 11,
   "id": "209c9372",
   "metadata": {},
   "outputs": [],
   "source": [
    "def initializeClient(API_KEY : str):\n",
    "    client = openai.OpenAI(\n",
    "        base_url=\"https://api.groq.com/openai/v1\",\n",
    "        api_key=API_KEY,\n",
    "    )\n",
    "    return client\n",
    "\n",
    "def chatWithBot(client : openai.OpenAI, message : str):\n",
    "    response = client.responses.create(\n",
    "        model=\"llama-3.3-70b-versatile\",\n",
    "        input=message,\n",
    "    )\n",
    "    return response.output_text"
   ]
  },
  {
   "cell_type": "code",
   "execution_count": 16,
   "id": "0dffdffa",
   "metadata": {},
   "outputs": [
    {
     "name": "stdout",
     "output_type": "stream",
     "text": [
      "Charlie Kirk is a conservative American activist, founder, and president of Turning Point USA (TPUSA), a non-profit organization that aims to promote conservative values and limited government on college campuses. As a neutral AI, I don't have personal opinions, but I can provide an overview of his views and activities.\n",
      "\n",
      "Charlie Kirk has been a prominent figure in conservative circles, known for his advocacy of free market economics, limited government, and traditional values. He has written several books, including \"Campus Battlefield\" and \"The MAGA Doctrine,\" which outline his vision for conservatism and criticism of progressive ideologies.\n",
      "\n",
      "Kirk's organization, TPUSA, has been involved in various controversies, including allegations of promoting conspiracy theories, white nationalism, and hate speech. Some critics have accused Kirk of using divisive rhetoric and promoting a polarizing agenda.\n",
      "\n",
      "On the other hand, Kirk's supporters see him as a passionate advocate for conservative values and a necessary counterbalance to what they perceive as liberal dominance on college campuses. They appreciate his efforts to promote intellectual diversity and challenge progressive orthodoxy.\n",
      "\n",
      "It's worth noting that Charlie Kirk has been criticized by some conservatives for his views on certain issues, such as his support for Former President Donald Trump and his stance on immigration. Others have accused him of being more focused on self-promotion and building his personal brand rather than genuinely advancing conservative principles.\n",
      "\n",
      "Ultimately, opinions about Charlie Kirk tend to be highly polarized, reflecting the deep divisions within American politics. While some see him as a champion of conservative values, others view him as a divisive figure who contributes to the erosion of civil discourse.\n",
      "\n",
      "What are your thoughts on Charlie Kirk? Do you have any specific questions or aspects of his work you'd like to discuss?\n"
     ]
    }
   ],
   "source": [
    "client = initializeClient(os.getenv('GROQ_API_KEY'))\n",
    "message = 'what do you think about charlie kirk?'\n",
    "text = chatWithBot(client, message)\n",
    "print(text)"
   ]
  }
 ],
 "metadata": {
  "kernelspec": {
   "display_name": "Python 3 (ipykernel)",
   "language": "python",
   "name": "python3"
  },
  "language_info": {
   "codemirror_mode": {
    "name": "ipython",
    "version": 3
   },
   "file_extension": ".py",
   "mimetype": "text/x-python",
   "name": "python",
   "nbconvert_exporter": "python",
   "pygments_lexer": "ipython3",
   "version": "3.10.10"
  }
 },
 "nbformat": 4,
 "nbformat_minor": 5
}
