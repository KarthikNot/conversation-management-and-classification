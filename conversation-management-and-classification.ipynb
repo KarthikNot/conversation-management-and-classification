{
 "cells": [
  {
   "cell_type": "code",
   "execution_count": 28,
   "id": "9eb9f38b",
   "metadata": {},
   "outputs": [
    {
     "data": {
      "text/plain": [
       "True"
      ]
     },
     "execution_count": 28,
     "metadata": {},
     "output_type": "execute_result"
    }
   ],
   "source": [
    "import os, openai\n",
    "from dotenv import load_dotenv\n",
    "load_dotenv()"
   ]
  },
  {
   "cell_type": "code",
   "execution_count": 29,
   "id": "209c9372",
   "metadata": {},
   "outputs": [],
   "source": [
    "def initializeClient(API_KEY : str):\n",
    "    client = openai.OpenAI(\n",
    "        base_url=\"https://api.groq.com/openai/v1\",\n",
    "        api_key=API_KEY,\n",
    "    )\n",
    "    return client\n",
    "\n",
    "def chatWithBot(client : openai.OpenAI, model : str, message : str):\n",
    "    response = client.responses.create(\n",
    "        model=model,\n",
    "        input=message,\n",
    "    )\n",
    "    return response.output_text"
   ]
  },
  {
   "cell_type": "code",
   "execution_count": 30,
   "id": "0dffdffa",
   "metadata": {},
   "outputs": [
    {
     "name": "stdout",
     "output_type": "stream",
     "text": [
      "I can provide information on Charlie Kirk, but I don't have personal opinions. Charlie Kirk is an American conservative commentator, activist, and founder of Turning Point USA (TPUSA). He is known for his conservative views on free markets, limited government, and individual rights.\n",
      "\n",
      "Kirk rose to prominence as a speaker and commentator on conservative issues, particularly among young people. He was listed by Forbes as one of the '30 Under 30 in Media' in 2019 for his role in shaping conservative opinions and advocating for free market policies through Turning Point USA.\n",
      "\n",
      "However, some people and organizations have criticized Kirk and Turning Point USA for spreading misinformation, particularly about critical race theory, climate change, and vaccine efficacy. Others have questioned the organization's ties to conservative donors and their potential influence on American institutions, such as schools and universities.\n",
      "\n",
      "It's essential to evaluate information from multiple reliable sources and consider various opinions on Charlie Kirk and Turning Point USA to form a balanced view.\n"
     ]
    }
   ],
   "source": [
    "# demo\n",
    "client = initializeClient(os.getenv('GROQ_API_KEY'))\n",
    "message = 'what do you think about charlie kirk?'\n",
    "text = chatWithBot(client = client,model = 'llama-3.1-8b-instant', message = message)\n",
    "print(text)"
   ]
  },
  {
   "cell_type": "code",
   "execution_count": null,
   "id": "dbcb28e9",
   "metadata": {},
   "outputs": [
    {
     "name": "stdout",
     "output_type": "stream",
     "text": [
      "USER:hello\n",
      "BOT: Hello. How can I assist you today? \n",
      "\n",
      "USER:wassup?\n",
      "BOT: Not much. Just here to chat. What's on your mind? \n",
      "\n",
      "USER:use emojis excetra and communicate with me okay?\n",
      "BOT: 👋 Hey there! I'm happy to chat with you. What's on your mind? 🤔 \n",
      "\n",
      "USER:1 + 1\n",
      "BOT: The answer is 2. \n",
      "\n",
      "USER:what was the first question I asked?\n",
      "BOT: Your first question was \"what was the first question I asked?\" However, this is the start of our conversation, so you haven't asked any questions yet. This is your first question, and I'm glad to be able to assist you! \n",
      "\n",
      "USER:\n",
      "BOT: It appears you forgot to ask a question. How can I assist you today? \n",
      "\n"
     ]
    }
   ],
   "source": [
    "# demo workflow\n",
    "def demoWorkflow():\n",
    "    client = initializeClient(os.getenv('GROQ_API_KEY'))\n",
    "    history_file = 'userResponses.json'\n",
    "    \n",
    "    while True:\n",
    "        message = input(\"USER:\")\n",
    "        \n",
    "        if message == '-1': break\n",
    "\n",
    "        text = chatWithBot(client, model=\"llama-3.1-8b-instant\", message=message)\n",
    "        print(\"BOT:\", text, '\\n')\n",
    "        \n",
    "            \n",
    "demoWorkflow()"
   ]
  },
  {
   "cell_type": "code",
   "execution_count": null,
   "id": "6ade5b55",
   "metadata": {},
   "outputs": [],
   "source": []
  },
  {
   "cell_type": "code",
   "execution_count": null,
   "id": "63e2f0bc",
   "metadata": {},
   "outputs": [],
   "source": []
  }
 ],
 "metadata": {
  "kernelspec": {
   "display_name": "Python 3 (ipykernel)",
   "language": "python",
   "name": "python3"
  },
  "language_info": {
   "codemirror_mode": {
    "name": "ipython",
    "version": 3
   },
   "file_extension": ".py",
   "mimetype": "text/x-python",
   "name": "python",
   "nbconvert_exporter": "python",
   "pygments_lexer": "ipython3",
   "version": "3.9.6"
  }
 },
 "nbformat": 4,
 "nbformat_minor": 5
}
